{
 "cells": [
  {
   "cell_type": "code",
   "execution_count": 10,
   "id": "314440f4-c896-4505-b5bf-da17e22508a3",
   "metadata": {},
   "outputs": [],
   "source": [
    "from sklearn.tree import DecisionTreeClassifier\n",
    "from sklearn.model_selection import train_test_split\n",
    "from sklearn.preprocessing import StandardScaler\n",
    "from sklearn.metrics import accuracy_score\n",
    "import pandas as pd"
   ]
  },
  {
   "cell_type": "code",
   "execution_count": 11,
   "id": "643500a9-fb4a-4647-922c-80ea9d03757a",
   "metadata": {},
   "outputs": [
    {
     "data": {
      "text/html": [
       "<div>\n",
       "<style scoped>\n",
       "    .dataframe tbody tr th:only-of-type {\n",
       "        vertical-align: middle;\n",
       "    }\n",
       "\n",
       "    .dataframe tbody tr th {\n",
       "        vertical-align: top;\n",
       "    }\n",
       "\n",
       "    .dataframe thead th {\n",
       "        text-align: right;\n",
       "    }\n",
       "</style>\n",
       "<table border=\"1\" class=\"dataframe\">\n",
       "  <thead>\n",
       "    <tr style=\"text-align: right;\">\n",
       "      <th></th>\n",
       "      <th>Interview_Score</th>\n",
       "      <th>Skills_Matched</th>\n",
       "      <th>Shortlisted</th>\n",
       "    </tr>\n",
       "  </thead>\n",
       "  <tbody>\n",
       "    <tr>\n",
       "      <th>293</th>\n",
       "      <td>8.775262</td>\n",
       "      <td>3.381908</td>\n",
       "      <td>Yes</td>\n",
       "    </tr>\n",
       "    <tr>\n",
       "      <th>64</th>\n",
       "      <td>7.643534</td>\n",
       "      <td>1.674802</td>\n",
       "      <td>Yes</td>\n",
       "    </tr>\n",
       "    <tr>\n",
       "      <th>117</th>\n",
       "      <td>3.699651</td>\n",
       "      <td>3.976386</td>\n",
       "      <td>No</td>\n",
       "    </tr>\n",
       "    <tr>\n",
       "      <th>256</th>\n",
       "      <td>4.662320</td>\n",
       "      <td>3.358459</td>\n",
       "      <td>No</td>\n",
       "    </tr>\n",
       "    <tr>\n",
       "      <th>222</th>\n",
       "      <td>8.365710</td>\n",
       "      <td>2.938303</td>\n",
       "      <td>Yes</td>\n",
       "    </tr>\n",
       "  </tbody>\n",
       "</table>\n",
       "</div>"
      ],
      "text/plain": [
       "     Interview_Score  Skills_Matched Shortlisted\n",
       "293         8.775262        3.381908         Yes\n",
       "64          7.643534        1.674802         Yes\n",
       "117         3.699651        3.976386          No\n",
       "256         4.662320        3.358459          No\n",
       "222         8.365710        2.938303         Yes"
      ]
     },
     "execution_count": 11,
     "metadata": {},
     "output_type": "execute_result"
    }
   ],
   "source": [
    "df = pd.read_csv('employee_shortlisting.csv')\n",
    "df.sample(5)"
   ]
  },
  {
   "cell_type": "code",
   "execution_count": 12,
   "id": "f2ada911-0aaa-448d-9b93-ad287e454a71",
   "metadata": {},
   "outputs": [],
   "source": [
    "df['Shortlisted']=df['Shortlisted'].map({'Yes':1,'No':0})\n",
    "X = df[[\"Interview_Score\",\"Skills_Matched\"]]\n",
    "y = df['Shortlisted']"
   ]
  },
  {
   "cell_type": "code",
   "execution_count": 13,
   "id": "314f7953-7a90-4b11-8624-2d6908d80c5a",
   "metadata": {},
   "outputs": [],
   "source": [
    "#split_data\n",
    "X_train,X_test,y_train,y_test = train_test_split(X,y,test_size = 0.2,random_state = 42)\n",
    "scaler = StandardScaler()\n",
    "X_train_scaled = scaler.fit_transform(X_train)\n",
    "X_test_scaled = scaler.transform(X_test)\n"
   ]
  },
  {
   "cell_type": "code",
   "execution_count": 15,
   "id": "f046de20-f5e3-4ebb-a88b-889a1c5d50c5",
   "metadata": {},
   "outputs": [
    {
     "name": "stdout",
     "output_type": "stream",
     "text": [
      "Test Accuracy :  0.92\n"
     ]
    }
   ],
   "source": [
    "model= DecisionTreeClassifier(random_state = 42)\n",
    "model.fit(X_train_scaled,y_train)\n",
    "y_pred = model.predict(X_test_scaled)\n",
    "print(\"Test Accuracy : \",accuracy_score(y_test,y_pred))"
   ]
  },
  {
   "cell_type": "code",
   "execution_count": 20,
   "id": "2b36730a-baf6-4e25-be3b-f8d09041e051",
   "metadata": {},
   "outputs": [
    {
     "name": "stdout",
     "output_type": "stream",
     "text": [
      "Fitting 3 folds for each of 25 candidates, totalling 75 fits\n",
      "Best parameter :  {'max_depth': 3, 'min_samples_split': 20}\n",
      "Best cross validation :  0.9399992518609958\n"
     ]
    }
   ],
   "source": [
    "from sklearn.ensemble import RandomForestClassifier\n",
    "from sklearn.model_selection import GridSearchCV\n",
    "\n",
    "model =  DecisionTreeClassifier(random_state = 42)\n",
    "\n",
    "#define parameter Grid\n",
    "param_grid = {'max_depth':[2,3,4,5,10], 'min_samples_split':[2,4,6,10,20]}\n",
    "\n",
    "grid_search = GridSearchCV(estimator = model,param_grid = param_grid,cv=3,scoring='accuracy',n_jobs = -1,verbose=1)\n",
    "grid_search.fit(X_train,y_train)\n",
    "\n",
    "#best param and score\n",
    "print(\"Best parameter : \",grid_search.best_params_)\n",
    "print(\"Best cross validation : \",grid_search.best_score_)"
   ]
  },
  {
   "cell_type": "code",
   "execution_count": 21,
   "id": "7b1fab84-3d9f-4ef6-92f0-8260915fb8e4",
   "metadata": {},
   "outputs": [
    {
     "name": "stdout",
     "output_type": "stream",
     "text": [
      "Test Accuracy :  0.94\n"
     ]
    }
   ],
   "source": [
    "from sklearn.metrics import classification_report,accuracy_score\n",
    "best_model = grid_search.best_estimator_\n",
    "y_pred = best_model.predict(X_test)\n",
    "print(\"Test Accuracy : \",accuracy_score(y_test,y_pred))"
   ]
  },
  {
   "cell_type": "code",
   "execution_count": null,
   "id": "99a1860e-954d-4814-b083-53bd78e0b99f",
   "metadata": {},
   "outputs": [],
   "source": []
  }
 ],
 "metadata": {
  "kernelspec": {
   "display_name": "Python 3 (ipykernel)",
   "language": "python",
   "name": "python3"
  },
  "language_info": {
   "codemirror_mode": {
    "name": "ipython",
    "version": 3
   },
   "file_extension": ".py",
   "mimetype": "text/x-python",
   "name": "python",
   "nbconvert_exporter": "python",
   "pygments_lexer": "ipython3",
   "version": "3.12.4"
  }
 },
 "nbformat": 4,
 "nbformat_minor": 5
}
