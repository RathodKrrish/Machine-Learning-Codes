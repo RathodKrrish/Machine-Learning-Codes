{
 "cells": [
  {
   "cell_type": "code",
   "execution_count": 4,
   "id": "ed854a7c-2024-44d7-a3ed-e282bfbb87a5",
   "metadata": {},
   "outputs": [
    {
     "name": "stdout",
     "output_type": "stream",
     "text": [
      "\n",
      "🔍 Model Accuracy:\n",
      "✅ Training Accuracy: 92.50%\n",
      "✅ Test Accuracy: 85.00%\n",
      "👍 Model seems to be well-fitted (Balanced train and test accuracy)\n",
      "\n",
      "💡 Enter patient details to predict heart disease:\n"
     ]
    },
    {
     "name": "stdin",
     "output_type": "stream",
     "text": [
      "Enter Age:  24\n",
      "Enter Cholesterol Level:  230\n",
      "Enter Blood Pressure:  180\n"
     ]
    },
    {
     "name": "stdout",
     "output_type": "stream",
     "text": [
      "\n",
      "📊 Prediction Result:\n",
      "⚠ The patient is *likely to have heart disease*.\n",
      "🧮 Probability of having heart disease: 99.50%\n"
     ]
    }
   ],
   "source": [
    "import pandas as pd\n",
    "from sklearn.linear_model import LogisticRegression\n",
    "from sklearn.model_selection import train_test_split\n",
    "from sklearn.metrics import accuracy_score\n",
    "import warnings\n",
    "warnings.filterwarnings('ignore')\n",
    "# Load CSV data\n",
    "data = pd.read_csv('heart_disease_data.csv')  # Make sure this file exists in same folder\n",
    "\n",
    "# Split data into features and target\n",
    "X = data[['Age', 'Cholesterol', 'Blood_Pressure']]\n",
    "y = data['Heart_Disease_Risk']\n",
    "\n",
    "# Split data into training and test sets\n",
    "X_train, X_test, y_train, y_test = train_test_split(X, y, test_size=0.2, random_state=42)\n",
    "\n",
    "# Train logistic regression model\n",
    "model = LogisticRegression()\n",
    "model.fit(X_train, y_train)\n",
    "\n",
    "# Accuracy scores\n",
    "train_accuracy = model.score(X_train, y_train)\n",
    "test_accuracy = model.score(X_test, y_test)\n",
    "\n",
    "print(f\"\\n🔍 Model Accuracy:\")\n",
    "print(f\"✅ Training Accuracy: {train_accuracy * 100:.2f}%\")\n",
    "print(f\"✅ Test Accuracy: {test_accuracy * 100:.2f}%\")\n",
    "\n",
    "# Check for underfitting or overfitting\n",
    "if abs(train_accuracy - test_accuracy) > 0.15:\n",
    "    if train_accuracy > test_accuracy:\n",
    "        print(\"⚠ Model might be *overfitting* (High train accuracy, Low test accuracy)\")\n",
    "    else:\n",
    "        print(\"⚠ Model might be *underfitting* (Low train and test accuracy)\")\n",
    "else:\n",
    "    print(\"👍 Model seems to be well-fitted (Balanced train and test accuracy)\")\n",
    "\n",
    "# Take user input for prediction\n",
    "print(\"\\n💡 Enter patient details to predict heart disease:\")\n",
    "age = int(input(\"Enter Age: \"))\n",
    "chol = int(input(\"Enter Cholesterol Level: \"))\n",
    "bp = int(input(\"Enter Blood Pressure: \"))\n",
    "\n",
    "# Predict result\n",
    "input_data = [[age, chol, bp]]\n",
    "prediction = model.predict(input_data)[0]\n",
    "prediction_prob = model.predict_proba(input_data)[0][1]  # Probability of heart disease\n",
    "\n",
    "# Display result\n",
    "print(\"\\n📊 Prediction Result:\")\n",
    "if prediction == 1:\n",
    "    print(\"⚠ The patient is *likely to have heart disease*.\")\n",
    "else:\n",
    "    print(\"✅ The patient is *likely healthy*.\")\n",
    "\n",
    "print(f\"🧮 Probability of having heart disease: {prediction_prob * 100:.2f}%\")"
   ]
  },
  {
   "cell_type": "code",
   "execution_count": null,
   "id": "5d5b8059-0d20-4501-9db0-60ec30d18934",
   "metadata": {},
   "outputs": [],
   "source": []
  }
 ],
 "metadata": {
  "kernelspec": {
   "display_name": "Python 3 (ipykernel)",
   "language": "python",
   "name": "python3"
  },
  "language_info": {
   "codemirror_mode": {
    "name": "ipython",
    "version": 3
   },
   "file_extension": ".py",
   "mimetype": "text/x-python",
   "name": "python",
   "nbconvert_exporter": "python",
   "pygments_lexer": "ipython3",
   "version": "3.12.4"
  }
 },
 "nbformat": 4,
 "nbformat_minor": 5
}
